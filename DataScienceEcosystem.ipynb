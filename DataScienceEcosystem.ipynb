{
 "cells": [
  {
   "cell_type": "markdown",
   "id": "48320ed3-7901-4ea6-9984-25d981c64254",
   "metadata": {},
   "source": [
    "# Data Science Tools and Ecosystem"
   ]
  },
  {
   "cell_type": "markdown",
   "id": "6a396d91-1344-4f8f-b625-d1b157d1e257",
   "metadata": {},
   "source": [
    "In this notebook, Data Science Tools and Ecosystem are summarized."
   ]
  },
  {
   "cell_type": "markdown",
   "id": "638818a9-c8a6-49a7-bdbd-085a5763aa9a",
   "metadata": {},
   "source": [
    "__Objectives:__\n",
    "* List popular languages for Data Science\n",
    "* List popular Libraries for Data Science\n",
    "* Code Sample\n"
   ]
  },
  {
   "cell_type": "markdown",
   "id": "cabe3ad0-194d-482c-b5d3-ab772e991503",
   "metadata": {},
   "source": [
    "Some of the popular languages that Data Scientists use are:\n",
    "* Python\n",
    "* C\n",
    "* R"
   ]
  },
  {
   "cell_type": "markdown",
   "id": "078dceca-9b05-4d12-827c-f57edd08313b",
   "metadata": {},
   "source": [
    "Some of the commonly used libraries used by Data Scientists include:\n",
    "\n",
    "1. Numpy\n",
    "2. Pandas\n",
    "3. Scikit-learn"
   ]
  },
  {
   "cell_type": "markdown",
   "id": "6b6ba575-4467-4a8c-a8f7-878ce85abe9d",
   "metadata": {},
   "source": [
    "|Data Science Tools|\n",
    "|-----|\n",
    "|Jupyter Notebook|\n",
    "|Rstudio|\n",
    "|VSC|"
   ]
  },
  {
   "cell_type": "markdown",
   "id": "12012150-fe2e-45ca-8b70-bc2f30c72ffd",
   "metadata": {},
   "source": [
    "### Below are a few examples of evaluating arithmetic expressions in Python"
   ]
  },
  {
   "cell_type": "code",
   "execution_count": 2,
   "id": "8eed016d-ca9d-482e-92a0-5b7d925c2fd2",
   "metadata": {
    "tags": []
   },
   "outputs": [
    {
     "data": {
      "text/plain": [
       "17"
      ]
     },
     "execution_count": 2,
     "metadata": {},
     "output_type": "execute_result"
    }
   ],
   "source": [
    "# This a simple arithmetic expression to mutiply then add integers\n",
    "(3*4)+5"
   ]
  },
  {
   "cell_type": "code",
   "execution_count": 3,
   "id": "dd102a5d-2878-4183-bb85-14ca245d7b3e",
   "metadata": {
    "tags": []
   },
   "outputs": [
    {
     "name": "stdout",
     "output_type": "stream",
     "text": [
      "200 mins to hr 3.3333333333333335\n"
     ]
    }
   ],
   "source": [
    "# This will convert 200 minutes to hours by diving by 60\n",
    "print(\"200 mins to hr\", 200/60)"
   ]
  },
  {
   "cell_type": "markdown",
   "id": "ab46cf50-9140-4aca-a0c5-eebc9ef7e56f",
   "metadata": {},
   "source": [
    "## Author \n",
    "Dat Dao"
   ]
  },
  {
   "cell_type": "code",
   "execution_count": null,
   "id": "e0346aff-f8c5-4008-86ae-2ee10cb39348",
   "metadata": {},
   "outputs": [],
   "source": []
  }
 ],
 "metadata": {
  "kernelspec": {
   "display_name": "Python",
   "language": "python",
   "name": "conda-env-python-py"
  },
  "language_info": {
   "codemirror_mode": {
    "name": "ipython",
    "version": 3
   },
   "file_extension": ".py",
   "mimetype": "text/x-python",
   "name": "python",
   "nbconvert_exporter": "python",
   "pygments_lexer": "ipython3",
   "version": "3.7.12"
  }
 },
 "nbformat": 4,
 "nbformat_minor": 5
}
